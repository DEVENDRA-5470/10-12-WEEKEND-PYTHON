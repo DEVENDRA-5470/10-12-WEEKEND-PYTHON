{
 "cells": [
  {
   "cell_type": "code",
   "execution_count": null,
   "id": "375fcced-f966-48db-b52a-d5f2a781b3bb",
   "metadata": {},
   "outputs": [],
   "source": [
    "# Variables.: Variable is a memory named location where data can be stored in different types.\n",
    "Rules:\n",
    "1.Variables can not start with any number.\n",
    "2.It can not includes any symbol. exclude(_).\n",
    "3.It can not includes any whitespaces.\n",
    "4.It can not be any already defined keyword.\n",
    "5.It can be any from a to z.\n"
   ]
  },
  {
   "cell_type": "code",
   "execution_count": null,
   "id": "dbff738d-a392-4fb3-bc9a-b9a240d9cdcc",
   "metadata": {},
   "outputs": [],
   "source": []
  },
  {
   "cell_type": "code",
   "execution_count": 1,
   "id": "157a171a-c031-4aa2-a929-8c363ba551a4",
   "metadata": {},
   "outputs": [
    {
     "ename": "SyntaxError",
     "evalue": "cannot assign to literal (2065745447.py, line 2)",
     "output_type": "error",
     "traceback": [
      "\u001b[1;36m  Cell \u001b[1;32mIn[1], line 2\u001b[1;36m\u001b[0m\n\u001b[1;33m    34='dreamer infotech'\u001b[0m\n\u001b[1;37m    ^\u001b[0m\n\u001b[1;31mSyntaxError\u001b[0m\u001b[1;31m:\u001b[0m cannot assign to literal\n"
     ]
    }
   ],
   "source": [
    "# 1.Variables can not start with any number.\n",
    "34='dreamer infotech'\n",
    "print(34)"
   ]
  },
  {
   "cell_type": "code",
   "execution_count": 5,
   "id": "7383f751-ad4c-499e-b40e-4c4e06cdc266",
   "metadata": {},
   "outputs": [
    {
     "name": "stdout",
     "output_type": "stream",
     "text": [
      "23\n",
      "78\n"
     ]
    }
   ],
   "source": [
    "# 2.It can not includes any symbol. exclude(_).\n",
    "# @=23\n",
    "# print(@)\n",
    "_=23\n",
    "print(_)\n",
    "n_n1=78\n",
    "print(n_n1)"
   ]
  },
  {
   "cell_type": "code",
   "execution_count": 8,
   "id": "286cac54-5292-434a-bfa4-ce7f2ee0d759",
   "metadata": {},
   "outputs": [
    {
     "name": "stdout",
     "output_type": "stream",
     "text": [
      "mahesh dreamer\n"
     ]
    }
   ],
   "source": [
    "# 3.It can not includes any whitespaces.\n",
    "full_name=\"mahesh dreamer\"\n",
    "print(full_name)"
   ]
  },
  {
   "cell_type": "code",
   "execution_count": 12,
   "id": "d167045a-f1fa-4598-8047-b96e728177fe",
   "metadata": {},
   "outputs": [
    {
     "ename": "TypeError",
     "evalue": "'str' object is not callable",
     "output_type": "error",
     "traceback": [
      "\u001b[1;31m---------------------------------------------------------------------------\u001b[0m",
      "\u001b[1;31mTypeError\u001b[0m                                 Traceback (most recent call last)",
      "Cell \u001b[1;32mIn[12], line 2\u001b[0m\n\u001b[0;32m      1\u001b[0m \u001b[38;5;66;03m# print=\"dev\"\u001b[39;00m\n\u001b[1;32m----> 2\u001b[0m \u001b[38;5;28mprint\u001b[39m(\u001b[38;5;28;43mprint\u001b[39;49m\u001b[43m(\u001b[49m\u001b[38;5;124;43m\"\u001b[39;49m\u001b[38;5;124;43mdev\u001b[39;49m\u001b[38;5;124;43m\"\u001b[39;49m\u001b[43m)\u001b[49m)\n",
      "\u001b[1;31mTypeError\u001b[0m: 'str' object is not callable"
     ]
    }
   ],
   "source": [
    "# print=\"dev\"\n",
    "print(print(\"dev\"))"
   ]
  },
  {
   "cell_type": "code",
   "execution_count": 12,
   "id": "fb398a1f-626f-4f08-8295-d04ea55a8d14",
   "metadata": {},
   "outputs": [
    {
     "name": "stdout",
     "output_type": "stream",
     "text": [
      "110.12\n",
      "<class 'int'>\n",
      "<class 'float'>\n",
      "2542849060528\n"
     ]
    }
   ],
   "source": [
    "var1=45\n",
    "var2=45\n",
    "var3=10.12\n",
    "# print(var1+var2+var3)\n",
    "res=var1+var2+var3\n",
    "res=res+10\n",
    "print(res)\n",
    "\n",
    "print(type(var1))\n",
    "print(type(var3))\n",
    "print(id(var1))"
   ]
  },
  {
   "cell_type": "code",
   "execution_count": null,
   "id": "40d13934-564b-42e7-94af-a606816dbbb5",
   "metadata": {},
   "outputs": [],
   "source": [
    "# Data Types:\n",
    "Number => int,float\n",
    "Charecter => str\n",
    "Boolean => True,False"
   ]
  },
  {
   "cell_type": "code",
   "execution_count": 14,
   "id": "b66dc5d0-8a5b-4416-b2dc-976c3d6f050d",
   "metadata": {},
   "outputs": [
    {
     "name": "stdout",
     "output_type": "stream",
     "text": [
      "Result : 46\n"
     ]
    }
   ],
   "source": [
    "# int\n",
    "a=23\n",
    "b=23\n",
    "c=a+b\n",
    "print(\"Result :\",c)"
   ]
  },
  {
   "cell_type": "code",
   "execution_count": 16,
   "id": "40918e28-3695-453f-87a2-0266dc83c95a",
   "metadata": {},
   "outputs": [
    {
     "name": "stdout",
     "output_type": "stream",
     "text": [
      "Result : 47.01\n",
      "<class 'float'>\n"
     ]
    }
   ],
   "source": [
    "# float\n",
    "a=23.56\n",
    "b=23.45\n",
    "c=a+b\n",
    "print(\"Result :\",c)\n",
    "print(type(c))"
   ]
  },
  {
   "cell_type": "code",
   "execution_count": 34,
   "id": "8ea34c0f-e3f2-40be-9b6e-3d16308fa04e",
   "metadata": {},
   "outputs": [
    {
     "name": "stdout",
     "output_type": "stream",
     "text": [
      "[I 2024-06-15 10:57:02.713\n",
      "ServerApp] Kernel started: a4da3b8b-0278-4330-a77a\n",
      "-b502e409ea71[I 2024-06-15 10:57:04.772 ServerApp]\n",
      "Connecting to kernel a4da3b8b-0278-4330-a77a-b502e409ea71.\n"
     ]
    }
   ],
   "source": [
    "# str\n",
    "# first_name=\"Dreamer\"\n",
    "# last_name =\"Infotech\"\n",
    "# res=first_name+\"_\"+last_name\n",
    "# print(res)\n",
    "# print(type(res))\n",
    "\n",
    "text=\"\"\"[I 2024-06-15 10:57:02.713\n",
    "ServerApp] Kernel started: a4da3b8b-0278-4330-a77a\n",
    "-b502e409ea71[I 2024-06-15 10:57:04.772 ServerApp]\n",
    "Connecting to kernel a4da3b8b-0278-4330-a77a-b502e409ea71.\"\"\"\n",
    "print(text)"
   ]
  },
  {
   "cell_type": "code",
   "execution_count": 28,
   "id": "4eebe134-5e54-4380-af8a-12587503ab77",
   "metadata": {},
   "outputs": [
    {
     "name": "stdout",
     "output_type": "stream",
     "text": [
      "1\n",
      "<class 'int'>\n"
     ]
    }
   ],
   "source": [
    "# Boolean : True:1 False:0\n",
    "a=True+False\n",
    "print(a)\n",
    "print(type(a))\n"
   ]
  },
  {
   "cell_type": "code",
   "execution_count": null,
   "id": "6c6384a4-2835-48a1-8c51-bfdffa89d482",
   "metadata": {},
   "outputs": [],
   "source": []
  },
  {
   "cell_type": "code",
   "execution_count": 31,
   "id": "8a9ffabe-c8c7-41fe-be43-694e362ce693",
   "metadata": {},
   "outputs": [
    {
     "name": "stdout",
     "output_type": "stream",
     "text": [
      "1213\n"
     ]
    }
   ],
   "source": [
    "v1='12'\n",
    "v2='13'\n",
    "r=v1+v2\n",
    "print(r)"
   ]
  },
  {
   "cell_type": "code",
   "execution_count": 4,
   "id": "4b07b50d-500a-4733-832e-75648efb5415",
   "metadata": {},
   "outputs": [
    {
     "name": "stdout",
     "output_type": "stream",
     "text": [
      "30000.005\n",
      "<class 'float'>\n"
     ]
    }
   ],
   "source": [
    "salary=30000.0050000\n",
    "print(salary)\n",
    "print(type(salary))"
   ]
  },
  {
   "cell_type": "code",
   "execution_count": 7,
   "id": "67aebe74-5905-4c0b-a8b7-1873ac453266",
   "metadata": {},
   "outputs": [
    {
     "name": "stdout",
     "output_type": "stream",
     "text": [
      "58.9\n"
     ]
    }
   ],
   "source": [
    "a1=23.5\n",
    "a2=35.4\n",
    "z=a1+a2\n",
    "print(z)"
   ]
  },
  {
   "cell_type": "code",
   "execution_count": 14,
   "id": "2b0bfd46-9536-472f-9c13-562ca1191672",
   "metadata": {},
   "outputs": [
    {
     "name": "stdout",
     "output_type": "stream",
     "text": [
      "My self dev and \n",
      "i am woking as \n",
      "a tutor with dreamer infotech since 2020\n"
     ]
    }
   ],
   "source": [
    "# string ('',\"\",\"\"\" multiline-string \"\"\")\n",
    "# my_address='faridabad NIT-3'\n",
    "# print(my_address)\n",
    "\n",
    "# my_address=\"faridabad NIT-3\"\n",
    "# print(my_address)\n",
    "\n",
    "# my_intro=\"\"\"My self dev and \n",
    "# i am woking as \n",
    "# a tutor with dreamer infotech since 2020\"\"\"\n",
    "# print(my_intro)"
   ]
  },
  {
   "cell_type": "code",
   "execution_count": null,
   "id": "4739db91-c62e-43dd-8171-53bf8498e953",
   "metadata": {},
   "outputs": [],
   "source": [
    "# Type casting\n",
    "# int()\n",
    "# str()\n",
    "# float()"
   ]
  },
  {
   "cell_type": "code",
   "execution_count": 18,
   "id": "bd8537fe-74e9-42ee-9078-c9eb7691d295",
   "metadata": {},
   "outputs": [
    {
     "name": "stdout",
     "output_type": "stream",
     "text": [
      "23\n",
      "<class 'int'>\n",
      "23\n"
     ]
    }
   ],
   "source": [
    "# Float to integer\n",
    "user_age=int(23.01)\n",
    "new_age=int(user_age)\n",
    "print(user_age)\n",
    "print(type(user_age))\n",
    "print(new_age)"
   ]
  },
  {
   "cell_type": "code",
   "execution_count": 23,
   "id": "438546f8-172d-47a6-8b1d-f2674cdec290",
   "metadata": {},
   "outputs": [
    {
     "name": "stdout",
     "output_type": "stream",
     "text": [
      "3000.0\n"
     ]
    }
   ],
   "source": [
    "# interger to float\n",
    "user_salary=float(3000)\n",
    "new_salary=float(user_salary)\n",
    "print(new_salary)"
   ]
  },
  {
   "cell_type": "code",
   "execution_count": 29,
   "id": "10d7ad2b-2821-4f2f-9eb1-308360580867",
   "metadata": {},
   "outputs": [
    {
     "name": "stdout",
     "output_type": "stream",
     "text": [
      "7800596319\n",
      "<class 'int'>\n"
     ]
    }
   ],
   "source": [
    "# string to integer\n",
    "user_mob=int('7800596319')\n",
    "print(user_mob)\n",
    "print(type(user_mob))"
   ]
  },
  {
   "cell_type": "code",
   "execution_count": 35,
   "id": "83dee9d3-c5e7-4f6f-9656-7e06a13084ef",
   "metadata": {},
   "outputs": [
    {
     "name": "stdout",
     "output_type": "stream",
     "text": [
      "Please enter valid number \n"
     ]
    }
   ],
   "source": [
    "mob='35433433'\n",
    "if len(mob)<10:\n",
    "    print(\"Please enter valid number \")\n",
    "else:\n",
    "    print(\"Your logged successfully\")\n",
    "    \n"
   ]
  },
  {
   "cell_type": "code",
   "execution_count": null,
   "id": "8179f3f8-9ee3-48e8-94b1-613c99ddef60",
   "metadata": {},
   "outputs": [],
   "source": [
    "# Input/output\n",
    "# input()"
   ]
  },
  {
   "cell_type": "code",
   "execution_count": 39,
   "id": "f5796a1e-8f24-4a79-a783-f0641e1821d1",
   "metadata": {},
   "outputs": [
    {
     "name": "stdin",
     "output_type": "stream",
     "text": [
      "Enter your number 1 : 1\n",
      "Enter your number 2 : 2\n"
     ]
    },
    {
     "name": "stdout",
     "output_type": "stream",
     "text": [
      "12\n",
      "<class 'str'> <class 'str'>\n"
     ]
    }
   ],
   "source": [
    "# By default input return string type\n",
    "n1=input(\"Enter your number 1 :\")\n",
    "n2=input(\"Enter your number 2 :\")\n",
    "res=n1+n2\n",
    "print(res)\n",
    "print(type(n1),type(n2))\n"
   ]
  },
  {
   "cell_type": "code",
   "execution_count": 43,
   "id": "cb1bd1a8-3cb3-461f-aa16-7a21b77f7376",
   "metadata": {},
   "outputs": [
    {
     "name": "stdin",
     "output_type": "stream",
     "text": [
      "Enter your number 1 : 1212\n",
      "Enter your number 2 : 12\n"
     ]
    },
    {
     "name": "stdout",
     "output_type": "stream",
     "text": [
      "101.0\n",
      "<class 'int'> <class 'int'>\n"
     ]
    }
   ],
   "source": [
    "# converting user input in integer form using int():\n",
    "n1=int(input(\"Enter your number 1 :\"))\n",
    "n2=int(input(\"Enter your number 2 :\"))\n",
    "res=n1/n2\n",
    "print(res)\n",
    "print(type(n1),type(n2))\n"
   ]
  },
  {
   "cell_type": "code",
   "execution_count": 44,
   "id": "42ccdf86-9023-458d-ba88-73edf08a9e2e",
   "metadata": {},
   "outputs": [
    {
     "name": "stdin",
     "output_type": "stream",
     "text": [
      "Enter your number 1 : 12\n",
      "Enter your number 2 : 10.90\n"
     ]
    },
    {
     "ename": "ValueError",
     "evalue": "invalid literal for int() with base 10: '10.90'",
     "output_type": "error",
     "traceback": [
      "\u001b[1;31m---------------------------------------------------------------------------\u001b[0m",
      "\u001b[1;31mValueError\u001b[0m                                Traceback (most recent call last)",
      "Cell \u001b[1;32mIn[44], line 3\u001b[0m\n\u001b[0;32m      1\u001b[0m \u001b[38;5;66;03m# converting user input in integer form using int():\u001b[39;00m\n\u001b[0;32m      2\u001b[0m n1\u001b[38;5;241m=\u001b[39m\u001b[38;5;28mint\u001b[39m(\u001b[38;5;28minput\u001b[39m(\u001b[38;5;124m\"\u001b[39m\u001b[38;5;124mEnter your number 1 :\u001b[39m\u001b[38;5;124m\"\u001b[39m))\n\u001b[1;32m----> 3\u001b[0m n2\u001b[38;5;241m=\u001b[39m\u001b[38;5;28;43mint\u001b[39;49m\u001b[43m(\u001b[49m\u001b[38;5;28;43minput\u001b[39;49m\u001b[43m(\u001b[49m\u001b[38;5;124;43m\"\u001b[39;49m\u001b[38;5;124;43mEnter your number 2 :\u001b[39;49m\u001b[38;5;124;43m\"\u001b[39;49m\u001b[43m)\u001b[49m\u001b[43m)\u001b[49m\n\u001b[0;32m      4\u001b[0m res\u001b[38;5;241m=\u001b[39mn1\u001b[38;5;241m/\u001b[39mn2\n\u001b[0;32m      5\u001b[0m \u001b[38;5;28mprint\u001b[39m(res)\n",
      "\u001b[1;31mValueError\u001b[0m: invalid literal for int() with base 10: '10.90'"
     ]
    }
   ],
   "source": [
    "# float does not work with int()\n",
    "n1=int(input(\"Enter your number 1 :\"))\n",
    "n2=int(input(\"Enter your number 2 :\"))\n",
    "res=n1/n2\n",
    "print(res)\n",
    "print(type(n1),type(n2))\n"
   ]
  },
  {
   "cell_type": "code",
   "execution_count": 47,
   "id": "0bf93325-826a-4e1b-9ba9-4714e3079118",
   "metadata": {},
   "outputs": [
    {
     "name": "stdin",
     "output_type": "stream",
     "text": [
      "Enter your number 1 : 12.12\n",
      "Enter your number 2 : 30.30\n"
     ]
    },
    {
     "name": "stdout",
     "output_type": "stream",
     "text": [
      "42.42\n",
      "<class 'float'> <class 'float'>\n"
     ]
    }
   ],
   "source": [
    "# float does not work with int()\n",
    "n1=float(input(\"Enter your number 1 :\"))\n",
    "n2=float(input(\"Enter your number 2 :\"))\n",
    "res=n1+n2\n",
    "print(res)\n",
    "print(type(n1),type(n2))\n"
   ]
  }
 ],
 "metadata": {
  "kernelspec": {
   "display_name": "Python 3 (ipykernel)",
   "language": "python",
   "name": "python3"
  },
  "language_info": {
   "codemirror_mode": {
    "name": "ipython",
    "version": 3
   },
   "file_extension": ".py",
   "mimetype": "text/x-python",
   "name": "python",
   "nbconvert_exporter": "python",
   "pygments_lexer": "ipython3",
   "version": "3.9.13"
  }
 },
 "nbformat": 4,
 "nbformat_minor": 5
}
